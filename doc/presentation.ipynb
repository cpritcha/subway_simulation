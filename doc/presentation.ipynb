{
 "cells": [
  {
   "cell_type": "markdown",
   "metadata": {
    "slideshow": {
     "slide_type": "slide"
    }
   },
   "source": [
    "# Subway Simulation\n",
    "\n",
    "by Jacob Boydston and Calvin Pritchard"
   ]
  },
  {
   "cell_type": "markdown",
   "metadata": {
    "slideshow": {
     "slide_type": "slide"
    }
   },
   "source": [
    "## Motivation\n",
    "* The world's largest cities are dependent on subway networks\n",
    "* Service distruptions interfere with personal lives, commercial and industrial productivity, and loss of revenue for the service operators\n",
    "* Being able to model service disruptions is key when trying to develop solutions for disruption scenarios\n",
    "* Modeling during the design process and before construction can also yield more efficient systems with lower operating costs, lower delays due to disruptions, and increased daily passenger capacity\n",
    "\n"
   ]
  },
  {
   "cell_type": "markdown",
   "metadata": {
    "slideshow": {
     "slide_type": "slide"
    }
   },
   "source": [
    "## Subway System Components\n",
    "* Subway systems consist of many interdependent components working together\n",
    "    * Trains\n",
    "    * Stations\n",
    "    * Track sections\n",
    "    * Passengers\n",
    "* Each of these are easily represented by atomic models in the DEVS framework\n",
    "    * The challenge in modeling these components are in managing the communications and defining the behavior\n",
    "* For behavior and other model specific quantities, available Toronto Transit Commision data is used as a reference because it is openly available online\n",
    "    * This includes train capacity, subway station layouts, times between stations, and passenger arrivals and departures per station per business day\n",
    "* Unknown quantities include passenger board and depart times, specific delay times associated with a particular issue (breakdown, station closure, etc.)\n",
    "\n"
   ]
  },
  {
   "cell_type": "markdown",
   "metadata": {
    "slideshow": {
     "slide_type": "slide"
    }
   },
   "source": [
    "## Typical Modeling Goals\n",
    "* Optimized quantities when considering subway system design generally inlude operating costs and passenger capacity\n",
    "    * More trains can carry more passengers, but can also increase train congestion on the network, slowing down service overall\n",
    "    * More trains can also be more expensive to operate, but if enough passengers are riding, the additional revenues may yield more profit\n",
    "    * Per train capacity can be increased, for example by adding an additional car, but this also increases operating costs and build costs due to the increased propulsion power required\n",
    "* Simulations generally need to be designed to avoid deadlock\n",
    "    * Deadlock occurs when no trains are able to move on the entire network\n",
    "        * Consider an even where one train is broken down in each direction near each other\n",
    "        * Over time, all trains will eventually be stuck behind the broken down trains and a deadlock condition occurs\n",
    "    * Modeling subway networks can aid in the proper placement of rail switches that allow trains to bypass one another, hopefully preventing a deadlock condition\n"
   ]
  },
  {
   "cell_type": "markdown",
   "metadata": {
    "slideshow": {
     "slide_type": "slide"
    }
   },
   "source": [
    "## Train Request Response Cycle\n",
    "<img src=\"TrainPhaseTransition.png\" alt=\"Train Phase Transition\" style=\"width: 450px;\"/>"
   ]
  },
  {
   "cell_type": "markdown",
   "metadata": {
    "slideshow": {
     "slide_type": "slide"
    }
   },
   "source": [
    "## Scheduler Atomic Model\n",
    "<img src=\"SchedulerDiagram.png\" alt=\"Scheduler Diagram\" style=\"width: 800px;\"/>"
   ]
  },
  {
   "cell_type": "markdown",
   "metadata": {
    "collapsed": true,
    "slideshow": {
     "slide_type": "slide"
    }
   },
   "source": [
    "## Scheduler Logic\n",
    "* The Scheduler is synonymous with the Coordinator atomic model\n",
    "    * Is is essentially the brains of the system\n",
    "* Train positions are bookkept internally to avoid further needs for communication through ports\n",
    "    * Anytime actual information is needed, the ports are used, but the Train instances do not necessarily need to know where they are\n",
    "        * The trains have an assumed order of states and it is the Scheduler's responsibility to ensure the trains only move when allowed and are located in the correct position\n",
    "* If the trains needed to communicate directly with the stations, then every train would need to be coupled with every station\n",
    "    * Instead the coupler routes messages appropriately based on its internal bookkeeping\n",
    "* This means interactions between components can be handled at the Scheduler level"
   ]
  },
  {
   "attachments": {},
   "cell_type": "markdown",
   "metadata": {
    "slideshow": {
     "slide_type": "slide"
    }
   },
   "source": [
    "## Scheduler Scenario: Move Train into Station\n",
    "<img src=\"MoveIntoStationScenario.png\" alt=\"Move into Station Scenario\" style=\"width: 800px;\"/>"
   ]
  },
  {
   "cell_type": "markdown",
   "metadata": {
    "slideshow": {
     "slide_type": "slide"
    }
   },
   "source": [
    "## Passenger Atomic Model\n",
    "* Instantiated by the Station atomic model\n",
    "* Only attributes are an origin and a destination\n",
    "* Destination choice must be assumed by the simulation\n",
    "    * Random choice\n",
    "    * Random choice, but direction dependent\n",
    "    * All passengers to one station\n",
    "    * Correlated based on daily rider statistics from TTC\n",
    "    * Cycle through a list of possible destinations"
   ]
  },
  {
   "attachments": {},
   "cell_type": "markdown",
   "metadata": {
    "slideshow": {
     "slide_type": "slide"
    }
   },
   "source": [
    "## DEVS Implementation\n",
    "* Trains are grouped into a coupled atomic model\n",
    "    * One group for each subway loop modeled\n",
    "* Stations and tracks are ordered into a SubwayLoop atomic model\n",
    "    * One subway loop instance for each direction on a subway line\n",
    "    * Each direction has its own Station instance for a given stop\n",
    "    * The track instances are shared between the directions, which provides interaction between the different directions and subway lines\n",
    "* The grouped atomic models are primarily to simplify the coupling with the scheduler\n",
    "<img src=\"SubwayInitial.png\" alt=\"Subway DEVS Screenshot\" style=\"width: 800px;\"/>\n"
   ]
  },
  {
   "cell_type": "code",
   "execution_count": null,
   "metadata": {
    "collapsed": true
   },
   "outputs": [],
   "source": []
  }
 ],
 "metadata": {
  "celltoolbar": "Slideshow",
  "kernelspec": {
   "display_name": "Python 3",
   "language": "python",
   "name": "python3"
  },
  "language_info": {
   "codemirror_mode": {
    "name": "ipython",
    "version": 3
   },
   "file_extension": ".py",
   "mimetype": "text/x-python",
   "name": "python",
   "nbconvert_exporter": "python",
   "pygments_lexer": "ipython3",
   "version": "3.6.2"
  }
 },
 "nbformat": 4,
 "nbformat_minor": 2
}
